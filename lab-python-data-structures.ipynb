{
 "cells": [
  {
   "cell_type": "markdown",
   "metadata": {
    "tags": []
   },
   "source": [
    "# Lab | Data Structures "
   ]
  },
  {
   "cell_type": "code",
   "execution_count": null,
   "metadata": {},
   "outputs": [],
   "source": [
    "## Exercise: Managing Customer Orders\n",
    "\n",
    "## As part of a business venture, you are starting an online store that sells various products. To ensure smooth operations, you need to develop a program that manages customer orders and inventory.\n",
    "\n",
    "## Follow the steps below to complete the exercise:\n",
    "\n",
    "## 1. Define a list called `products` that contains the following items: \"t-shirt\", \"mug\", \"hat\", \"book\", \"keychain\".\n",
    "products = [\"t-shirt\", \"mug\", \"hat\", \"book\", \"keychain\"]\n",
    "## 2. Create an empty dictionary called `inventory`.\n",
    "inventory = {}\n",
    "## 3. Ask the user to input the quantity of each product available in the inventory. Use the product names from the `products` list as keys in the `inventory` dictionary and assign the respective quantities as values.\n",
    "for x in products:\n",
    "    cantidad = input(print(f\"¿Qué cantidad de {x} desea?\"))\n",
    "    inventory[x] = cantidad\n",
    "print(inventory)\n",
    "## 4. Create an empty set called `customer_orders`.\n",
    "customer_orders = set()\n",
    "## 5. Ask the user to input the name of three products that a customer wants to order (from those in the products list, meaning three products out of \"t-shirt\", \"mug\", \"hat\", \"book\" or \"keychain\". Add each product name to the `customer_orders` set.\n",
    "while len(customer_orders) < 3:\n",
    "    pedido = input(print(\"Elija un producto\"))\n",
    "    if pedido not in products:\n",
    "        print(\"No tenemos de esto, elija algo de la lista\")\n",
    "    customer_orders.add(pedido)\n",
    "\n",
    "## 6. Print the products in the `customer_orders` set.\n",
    "print(customer_orders)\n",
    "\n",
    "##7. Calculate the following order statistics:\n",
    "  ## - Total Products Ordered: The total number of products in the `customer_orders` set.\n",
    "  ## - Percentage of Products Ordered: The percentage of products ordered compared to the total available products.\n",
    "   \n",
    "   ## Store these statistics in a tuple called `order_status`.\n",
    "order_status = ()\n",
    "total_ordered_products = len(customer_orders)\n",
    "total_available_products = len(products)\n",
    "total_products_ordered = len(customer_orders)\n",
    "percentage_ordered = (total_products_ordered / total_available_products) * 100\n",
    "\n",
    "## 8. Print the order statistics using the following format:\n",
    "  ## ```\n",
    "   ## Order Statistics:\n",
    "   ## Total Products Ordered: <total_products_ordered>\n",
    "   ## Percentage of Products Ordered: <percentage_ordered>% \n",
    "   ## ```\n",
    "print(f\"Order Statistics:\\n Total Products Ordered: {total_products_ordered}\\n Percentage of Products Ordered: {percentage_ordered}%\")\n",
    "   \n",
    "## 9. Update the inventory by subtracting 1 from the quantity of each product. Modify the `inventory` dictionary accordingly.\n",
    "for x in customer_orders:\n",
    "    if inventory[x] > 0:\n",
    "        inventory[x] -= 1\n",
    "## 10. Print the updated inventory, displaying the quantity of each product on separate lines.\n",
    "print(str(inventory).replace(', ',',\\n '))\n",
    "## Solve the exercise by implementing the steps using the Python concepts of lists, dictionaries, sets, and basic input/output operations. "
   ]
  },
  {
   "cell_type": "code",
   "execution_count": 1,
   "metadata": {},
   "outputs": [],
   "source": [
    "## Exercise: Managing Customer Orders\n",
    "\n",
    "## As part of a business venture, you are starting an online store that sells various products. To ensure smooth operations, you need to develop a program that manages customer orders and inventory.\n",
    "\n",
    "## Follow the steps below to complete the exercise:\n",
    "\n",
    "## 1. Define a list called `products` that contains the following items: \"t-shirt\", \"mug\", \"hat\", \"book\", \"keychain\".\n",
    "products = [\"t-shirt\", \"mug\", \"hat\", \"book\", \"keychain\"]"
   ]
  },
  {
   "cell_type": "code",
   "execution_count": 2,
   "metadata": {},
   "outputs": [],
   "source": [
    "## 2. Create an empty dictionary called `inventory`.\n",
    "inventory = {}"
   ]
  },
  {
   "cell_type": "code",
   "execution_count": 31,
   "metadata": {},
   "outputs": [
    {
     "name": "stdout",
     "output_type": "stream",
     "text": [
      "¿Qué cantidad de t-shirt desea?\n",
      "¿Qué cantidad de mug desea?\n",
      "¿Qué cantidad de hat desea?\n",
      "¿Qué cantidad de book desea?\n",
      "¿Qué cantidad de keychain desea?\n",
      "{'t-shirt': 4, 'mug': 5, 'hat': 6, 'book': 7, 'keychain': 8}\n"
     ]
    }
   ],
   "source": [
    "## 3. Ask the user to input the quantity of each product available in the inventory. Use the product names from the `products` list as keys in the `inventory` dictionary and assign the respective quantities as values.\n",
    "for x in products:\n",
    "    cantidad = int(input(print(f\"¿Qué cantidad de {x} desea?\")))\n",
    "    inventory[x] = cantidad\n",
    "print(inventory)"
   ]
  },
  {
   "cell_type": "code",
   "execution_count": 32,
   "metadata": {},
   "outputs": [],
   "source": [
    "## 4. Create an empty set called `customer_orders`.\n",
    "customer_orders = set()"
   ]
  },
  {
   "cell_type": "code",
   "execution_count": 33,
   "metadata": {},
   "outputs": [
    {
     "name": "stdout",
     "output_type": "stream",
     "text": [
      "Elija un producto\n",
      "Elija un producto\n",
      "Elija un producto\n"
     ]
    }
   ],
   "source": [
    "## 5. Ask the user to input the name of three products that a customer wants to order (from those in the products list, meaning three products out of \"t-shirt\", \"mug\", \"hat\", \"book\" or \"keychain\". Add each product name to the `customer_orders` set.\n",
    "while len(customer_orders) < 3:\n",
    "    pedido = input(print(\"Elija un producto\"))\n",
    "    if pedido not in products:\n",
    "        print(\"No tenemos de esto, elija algo de la lista\")\n",
    "    customer_orders.add(pedido)"
   ]
  },
  {
   "cell_type": "code",
   "execution_count": 34,
   "metadata": {},
   "outputs": [
    {
     "name": "stdout",
     "output_type": "stream",
     "text": [
      "{'mug', 'hat', 'book'}\n"
     ]
    }
   ],
   "source": [
    "## 6. Print the products in the `customer_orders` set.\n",
    "print(customer_orders)"
   ]
  },
  {
   "cell_type": "code",
   "execution_count": 35,
   "metadata": {},
   "outputs": [],
   "source": [
    "##7. Calculate the following order statistics:\n",
    "  ## - Total Products Ordered: The total number of products in the `customer_orders` set.\n",
    "  ## - Percentage of Products Ordered: The percentage of products ordered compared to the total available products.\n",
    "   \n",
    "   ## Store these statistics in a tuple called `order_status`.\n",
    "order_status = ()\n",
    "total_ordered_products = len(customer_orders)\n",
    "total_available_products = len(products)\n",
    "total_products_ordered = len(customer_orders)\n",
    "percentage_ordered = (total_products_ordered / total_available_products) * 100"
   ]
  },
  {
   "cell_type": "code",
   "execution_count": 36,
   "metadata": {},
   "outputs": [
    {
     "name": "stdout",
     "output_type": "stream",
     "text": [
      "Order Statistics:\n",
      " Total Products Ordered: 3\n",
      " Percentage of Products Ordered: 60.0%\n"
     ]
    }
   ],
   "source": [
    "## 8. Print the order statistics using the following format:\n",
    "  ## ```\n",
    "   ## Order Statistics:\n",
    "   ## Total Products Ordered: <total_products_ordered>\n",
    "   ## Percentage of Products Ordered: <percentage_ordered>% \n",
    "   ## ```\n",
    "print(f\"Order Statistics:\\n Total Products Ordered: {total_products_ordered}\\n Percentage of Products Ordered: {percentage_ordered}%\")"
   ]
  },
  {
   "cell_type": "code",
   "execution_count": 37,
   "metadata": {},
   "outputs": [],
   "source": [
    "## 9. Update the inventory by subtracting 1 from the quantity of each product. Modify the `inventory` dictionary accordingly.\n",
    "for x in customer_orders:\n",
    "    if inventory[x] > 0:\n",
    "        inventory[x] -= 1"
   ]
  },
  {
   "cell_type": "code",
   "execution_count": 39,
   "metadata": {},
   "outputs": [
    {
     "name": "stdout",
     "output_type": "stream",
     "text": [
      "{'t-shirt': 4,\n",
      " 'mug': 4,\n",
      " 'hat': 5,\n",
      " 'book': 6,\n",
      " 'keychain': 8}\n"
     ]
    }
   ],
   "source": [
    "## 10. Print the updated inventory, displaying the quantity of each product on separate lines.\n",
    "print(str(inventory).replace(', ',',\\n '))"
   ]
  }
 ],
 "metadata": {
  "kernelspec": {
   "display_name": "Python 3 (ipykernel)",
   "language": "python",
   "name": "python3"
  },
  "language_info": {
   "codemirror_mode": {
    "name": "ipython",
    "version": 3
   },
   "file_extension": ".py",
   "mimetype": "text/x-python",
   "name": "python",
   "nbconvert_exporter": "python",
   "pygments_lexer": "ipython3",
   "version": "3.9.19"
  }
 },
 "nbformat": 4,
 "nbformat_minor": 4
}
